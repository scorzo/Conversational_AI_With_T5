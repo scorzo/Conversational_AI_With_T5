{
  "cells": [
    {
      "cell_type": "markdown",
      "metadata": {
        "id": "view-in-github",
        "colab_type": "text"
      },
      "source": [
        "<a href=\"https://colab.research.google.com/github/scorzo/Conversational_AI_With_T5/blob/main/Conversational_AI_With_T5.ipynb\" target=\"_parent\"><img src=\"https://colab.research.google.com/assets/colab-badge.svg\" alt=\"Open In Colab\"/></a>"
      ]
    },
    {
      "cell_type": "code",
      "execution_count": null,
      "id": "4c6e2a00",
      "metadata": {
        "id": "4c6e2a00"
      },
      "outputs": [],
      "source": [
        "!pip install transformers\n"
      ]
    },
    {
      "cell_type": "code",
      "execution_count": null,
      "id": "edc178c1",
      "metadata": {
        "id": "edc178c1"
      },
      "outputs": [],
      "source": [
        "from transformers import T5ForConditionalGeneration, T5Tokenizer\n",
        "import torch\n"
      ]
    },
    {
      "cell_type": "markdown",
      "id": "9e558776",
      "metadata": {
        "id": "9e558776"
      },
      "source": [
        "## Step 1: Load the Model and Tokenizer\n",
        "Load the `google/flan-t5-base` model and its tokenizer."
      ]
    },
    {
      "cell_type": "code",
      "execution_count": null,
      "id": "0c7e242e",
      "metadata": {
        "id": "0c7e242e"
      },
      "outputs": [],
      "source": [
        "model_name = \"google/flan-t5-base\"\n",
        "model = T5ForConditionalGeneration.from_pretrained(model_name)\n",
        "tokenizer = T5Tokenizer.from_pretrained(model_name)\n"
      ]
    },
    {
      "cell_type": "markdown",
      "id": "13b7f429",
      "metadata": {
        "id": "13b7f429"
      },
      "source": [
        "## Step 2: Define a Function for Generating Responses\n",
        "This function takes the conversation history and the current input, and generates a response."
      ]
    },
    {
      "cell_type": "code",
      "execution_count": null,
      "id": "f3d4c733",
      "metadata": {
        "id": "f3d4c733"
      },
      "outputs": [],
      "source": [
        "def generate_response(conversation_history, current_input, max_length=50):\n",
        "    input_text = conversation_history + current_input\n",
        "    input_ids = tokenizer.encode(input_text, return_tensors=\"pt\")\n",
        "    output_ids = model.generate(input_ids, max_length=max_length)\n",
        "    response = tokenizer.decode(output_ids[0], skip_special_tokens=True)\n",
        "    return response\n"
      ]
    },
    {
      "cell_type": "markdown",
      "id": "262f5871",
      "metadata": {
        "id": "262f5871"
      },
      "source": [
        "## Step 3: Maintain and Update the Conversation History\n",
        "For each turn in the conversation, update the history with the new input and response."
      ]
    },
    {
      "cell_type": "code",
      "execution_count": null,
      "id": "22f9ac9c",
      "metadata": {
        "id": "22f9ac9c"
      },
      "outputs": [],
      "source": [
        "conversation_history = \"\"\n",
        "\n",
        "# Example conversation loop\n",
        "while True:\n",
        "    current_input = input(\"You: \")\n",
        "    if current_input.lower() == \"quit\":\n",
        "        break\n",
        "\n",
        "    response = generate_response(conversation_history, current_input)\n",
        "    print(\"AI:\", response)\n",
        "\n",
        "    conversation_history += f\"User: {current_input}\\nAI: {response}\\n\"\n"
      ]
    },
    {
      "cell_type": "markdown",
      "source": [
        "Note: The conversation size limit in characters for a model like google/flan-t5-base depends on the maximum token limit of the model's tokenizer. For T5 models, this is typically 512 tokens."
      ],
      "metadata": {
        "id": "tsi2bY4FEIV3"
      },
      "id": "tsi2bY4FEIV3"
    }
  ],
  "metadata": {
    "colab": {
      "provenance": [],
      "include_colab_link": true
    }
  },
  "nbformat": 4,
  "nbformat_minor": 5
}